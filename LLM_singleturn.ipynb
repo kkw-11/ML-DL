{
  "nbformat": 4,
  "nbformat_minor": 0,
  "metadata": {
    "colab": {
      "provenance": [],
      "authorship_tag": "ABX9TyPN7ABc5f5XGW7TP7P8lTMI",
      "include_colab_link": true
    },
    "kernelspec": {
      "name": "python3",
      "display_name": "Python 3"
    },
    "language_info": {
      "name": "python"
    }
  },
  "cells": [
    {
      "cell_type": "markdown",
      "metadata": {
        "id": "view-in-github",
        "colab_type": "text"
      },
      "source": [
        "<a href=\"https://colab.research.google.com/github/kkw-11/ML-DL/blob/main/LLM_singleturn.ipynb\" target=\"_parent\"><img src=\"https://colab.research.google.com/assets/colab-badge.svg\" alt=\"Open In Colab\"/></a>"
      ]
    },
    {
      "cell_type": "code",
      "execution_count": null,
      "metadata": {
        "id": "4Cpi9EUZ0EnK"
      },
      "outputs": [],
      "source": [
        "from openai import OpenAI\n",
        "from dotenv import load_dotenv\n",
        "import os\n",
        "\n",
        "load_dotenv()\n",
        "api_key = os.getenv(\"OPENAI_API_KEY\")\n",
        "\n",
        "client = OpenAI(api_key=api_key)\n",
        "\n",
        "while True:\n",
        "    user_input = input(\"사용자: \")\n",
        "\n",
        "    if user_input == \"exit\":\n",
        "        break\n",
        "\n",
        "    response = client.chat.completions.create(\n",
        "        model=\"gpt-4o\",\n",
        "        temperature=0.9,\n",
        "        messages=[\n",
        "            {\"role\":\"system\", \"content\": \"너는 사용자를 도와주는 상담사야.\"},\n",
        "            {\"role\":\"user\", \"content\": user_input}\n",
        "        ]\n",
        "    )\n",
        "\n",
        "    print(\"AI: \" + response.choices[0].message.content)"
      ]
    }
  ]
}
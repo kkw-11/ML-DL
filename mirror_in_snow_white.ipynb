{
  "nbformat": 4,
  "nbformat_minor": 0,
  "metadata": {
    "colab": {
      "provenance": [],
      "authorship_tag": "ABX9TyPSzRtToNgG2GqF0SoNoiMv",
      "include_colab_link": true
    },
    "kernelspec": {
      "name": "python3",
      "display_name": "Python 3"
    },
    "language_info": {
      "name": "python"
    }
  },
  "cells": [
    {
      "cell_type": "markdown",
      "metadata": {
        "id": "view-in-github",
        "colab_type": "text"
      },
      "source": [
        "<a href=\"https://colab.research.google.com/github/kkw-11/ML-DL/blob/main/mirror_in_snow_white.ipynb\" target=\"_parent\"><img src=\"https://colab.research.google.com/assets/colab-badge.svg\" alt=\"Open In Colab\"/></a>"
      ]
    },
    {
      "cell_type": "code",
      "execution_count": null,
      "metadata": {
        "id": "3mqbLJpqZ1sO"
      },
      "outputs": [],
      "source": [
        "# LLM을 활용한 AI 에이전트 개발 입문\n",
        "\n",
        "from openai import OpenAI\n",
        "from dotenv import load_dotenv\n",
        "import os\n",
        "\n",
        "load_dotenv()\n",
        "\n",
        "api_key = os.getenv('OPENAI_API_KEY')\n",
        "client = OpenAI(api_key=api_key)\n",
        "\n",
        "response = client.chat.completions.create(\n",
        "    model=\"gpt-4o\",\n",
        "    temperature=0.9,\n",
        "    messages=[\n",
        "        {\"role\":\"system\", \"content\":\"너는 백설동주 이야기 속의 마법 거울이야. 그 이야기의 캐릭터에 부합하게 답변해줘.\"},\n",
        "        {\"role\": \"user\", \"content\": \"세상에서 누가 제일 아름답니?\"}\n",
        "    ]\n",
        ")\n",
        "\n",
        "\n",
        "print(response.choices[0].message.content)"
      ]
    }
  ]
}